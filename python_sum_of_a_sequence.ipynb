{
  "nbformat": 4,
  "nbformat_minor": 0,
  "metadata": {
    "colab": {
      "provenance": [],
      "authorship_tag": "ABX9TyOPIi0FgJRgBimUueRqhHur",
      "include_colab_link": true
    },
    "kernelspec": {
      "name": "python3",
      "display_name": "Python 3"
    },
    "language_info": {
      "name": "python"
    }
  },
  "cells": [
    {
      "cell_type": "markdown",
      "metadata": {
        "id": "view-in-github",
        "colab_type": "text"
      },
      "source": [
        "<a href=\"https://colab.research.google.com/github/ValeriyIvanovich/Knights-Fighting/blob/master/python_sum_of_a_sequence.ipynb\" target=\"_parent\"><img src=\"https://colab.research.google.com/assets/colab-badge.svg\" alt=\"Open In Colab\"/></a>"
      ]
    },
    {
      "cell_type": "code",
      "execution_count": 3,
      "metadata": {
        "colab": {
          "base_uri": "https://localhost:8080/"
        },
        "id": "pxIKM2IEi1hl",
        "outputId": "9ec60fa7-659b-4dcc-9397-f05b92b434b6"
      },
      "outputs": [
        {
          "output_type": "stream",
          "name": "stdout",
          "text": [
            "[1, 2, 3, 4, 5, 6, 7]\n",
            "28\n"
          ]
        }
      ],
      "source": [
        "def sum_of_a_sequence(begin_number: int, end_number: int, step: int) -> int:\n",
        "    if begin_number <= end_number:\n",
        "        res = list(range(begin_number, end_number + 1, step))\n",
        "        print(res)\n",
        "        print(sum(res))\n",
        "\n",
        "\n",
        "sum_of_a_sequence(begin_number=1, end_number=7, step=1)\n"
      ]
    }
  ]
}